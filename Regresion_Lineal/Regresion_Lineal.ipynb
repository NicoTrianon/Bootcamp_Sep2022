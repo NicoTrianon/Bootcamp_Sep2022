{
 "cells": [
  {
   "cell_type": "code",
   "execution_count": 1,
   "metadata": {},
   "outputs": [],
   "source": [
    "# Regresion Lineal\n",
    "import pandas as pd\n",
    "import numpy as np\n",
    "import scipy.stats as st\n",
    "from sklearn.linear_model import LinearRegression\n",
    "import statsmodels.formula.api as smf"
   ]
  },
  {
   "cell_type": "code",
   "execution_count": 2,
   "metadata": {},
   "outputs": [],
   "source": [
    "fichero=\"./vehiculos_procesado.csv\""
   ]
  },
  {
   "cell_type": "code",
   "execution_count": 3,
   "metadata": {},
   "outputs": [],
   "source": [
    "df=pd.read_csv(fichero)"
   ]
  },
  {
   "cell_type": "code",
   "execution_count": 4,
   "metadata": {},
   "outputs": [
    {
     "data": {
      "text/html": [
       "<div>\n",
       "<style scoped>\n",
       "    .dataframe tbody tr th:only-of-type {\n",
       "        vertical-align: middle;\n",
       "    }\n",
       "\n",
       "    .dataframe tbody tr th {\n",
       "        vertical-align: top;\n",
       "    }\n",
       "\n",
       "    .dataframe thead th {\n",
       "        text-align: right;\n",
       "    }\n",
       "</style>\n",
       "<table border=\"1\" class=\"dataframe\">\n",
       "  <thead>\n",
       "    <tr style=\"text-align: right;\">\n",
       "      <th></th>\n",
       "      <th>fabricante</th>\n",
       "      <th>modelo</th>\n",
       "      <th>year</th>\n",
       "      <th>desplazamiento</th>\n",
       "      <th>cilindros</th>\n",
       "      <th>transmision</th>\n",
       "      <th>traccion</th>\n",
       "      <th>clase</th>\n",
       "      <th>combustible</th>\n",
       "      <th>consumo</th>\n",
       "      <th>co2</th>\n",
       "      <th>consumo_std</th>\n",
       "      <th>desplazamiento_std</th>\n",
       "    </tr>\n",
       "  </thead>\n",
       "  <tbody>\n",
       "    <tr>\n",
       "      <th>0</th>\n",
       "      <td>AM General</td>\n",
       "      <td>DJ Po Vehicle 2WD</td>\n",
       "      <td>1984</td>\n",
       "      <td>2.5</td>\n",
       "      <td>4.0</td>\n",
       "      <td>Automatic 3-spd</td>\n",
       "      <td>2-Wheel Drive</td>\n",
       "      <td>Special Purpose Vehicle 2WD</td>\n",
       "      <td>Regular</td>\n",
       "      <td>17</td>\n",
       "      <td>522.764706</td>\n",
       "      <td>-0.653195</td>\n",
       "      <td>-0.613385</td>\n",
       "    </tr>\n",
       "    <tr>\n",
       "      <th>1</th>\n",
       "      <td>AM General</td>\n",
       "      <td>FJ8c Post Office</td>\n",
       "      <td>1984</td>\n",
       "      <td>4.2</td>\n",
       "      <td>6.0</td>\n",
       "      <td>Automatic 3-spd</td>\n",
       "      <td>2-Wheel Drive</td>\n",
       "      <td>Special Purpose Vehicle 2WD</td>\n",
       "      <td>Regular</td>\n",
       "      <td>13</td>\n",
       "      <td>683.615385</td>\n",
       "      <td>-1.565710</td>\n",
       "      <td>0.676220</td>\n",
       "    </tr>\n",
       "    <tr>\n",
       "      <th>2</th>\n",
       "      <td>AM General</td>\n",
       "      <td>Post Office DJ5 2WD</td>\n",
       "      <td>1985</td>\n",
       "      <td>2.5</td>\n",
       "      <td>4.0</td>\n",
       "      <td>Automatic 3-spd</td>\n",
       "      <td>Rear-Wheel Drive</td>\n",
       "      <td>Special Purpose Vehicle 2WD</td>\n",
       "      <td>Regular</td>\n",
       "      <td>16</td>\n",
       "      <td>555.437500</td>\n",
       "      <td>-0.881324</td>\n",
       "      <td>-0.613385</td>\n",
       "    </tr>\n",
       "    <tr>\n",
       "      <th>3</th>\n",
       "      <td>AM General</td>\n",
       "      <td>Post Office DJ8 2WD</td>\n",
       "      <td>1985</td>\n",
       "      <td>4.2</td>\n",
       "      <td>6.0</td>\n",
       "      <td>Automatic 3-spd</td>\n",
       "      <td>Rear-Wheel Drive</td>\n",
       "      <td>Special Purpose Vehicle 2WD</td>\n",
       "      <td>Regular</td>\n",
       "      <td>13</td>\n",
       "      <td>683.615385</td>\n",
       "      <td>-1.565710</td>\n",
       "      <td>0.676220</td>\n",
       "    </tr>\n",
       "    <tr>\n",
       "      <th>4</th>\n",
       "      <td>ASC Incorporated</td>\n",
       "      <td>GNX</td>\n",
       "      <td>1987</td>\n",
       "      <td>3.8</td>\n",
       "      <td>6.0</td>\n",
       "      <td>Automatic 4-spd</td>\n",
       "      <td>Rear-Wheel Drive</td>\n",
       "      <td>Midsize Cars</td>\n",
       "      <td>Premium</td>\n",
       "      <td>16</td>\n",
       "      <td>555.437500</td>\n",
       "      <td>-0.881324</td>\n",
       "      <td>0.372783</td>\n",
       "    </tr>\n",
       "  </tbody>\n",
       "</table>\n",
       "</div>"
      ],
      "text/plain": [
       "         fabricante               modelo  year  desplazamiento  cilindros  \\\n",
       "0        AM General    DJ Po Vehicle 2WD  1984             2.5        4.0   \n",
       "1        AM General     FJ8c Post Office  1984             4.2        6.0   \n",
       "2        AM General  Post Office DJ5 2WD  1985             2.5        4.0   \n",
       "3        AM General  Post Office DJ8 2WD  1985             4.2        6.0   \n",
       "4  ASC Incorporated                  GNX  1987             3.8        6.0   \n",
       "\n",
       "       transmision          traccion                        clase combustible  \\\n",
       "0  Automatic 3-spd     2-Wheel Drive  Special Purpose Vehicle 2WD     Regular   \n",
       "1  Automatic 3-spd     2-Wheel Drive  Special Purpose Vehicle 2WD     Regular   \n",
       "2  Automatic 3-spd  Rear-Wheel Drive  Special Purpose Vehicle 2WD     Regular   \n",
       "3  Automatic 3-spd  Rear-Wheel Drive  Special Purpose Vehicle 2WD     Regular   \n",
       "4  Automatic 4-spd  Rear-Wheel Drive                 Midsize Cars     Premium   \n",
       "\n",
       "   consumo         co2  consumo_std  desplazamiento_std  \n",
       "0       17  522.764706    -0.653195           -0.613385  \n",
       "1       13  683.615385    -1.565710            0.676220  \n",
       "2       16  555.437500    -0.881324           -0.613385  \n",
       "3       13  683.615385    -1.565710            0.676220  \n",
       "4       16  555.437500    -0.881324            0.372783  "
      ]
     },
     "execution_count": 4,
     "metadata": {},
     "output_type": "execute_result"
    }
   ],
   "source": [
    "df.head()"
   ]
  },
  {
   "cell_type": "code",
   "execution_count": 5,
   "metadata": {},
   "outputs": [],
   "source": [
    "df=df[[\"consumo\",\"co2\",\"cilindros\",\"desplazamiento\"]]"
   ]
  },
  {
   "cell_type": "code",
   "execution_count": 6,
   "metadata": {},
   "outputs": [
    {
     "data": {
      "text/plain": [
       "(35539, 4)"
      ]
     },
     "execution_count": 6,
     "metadata": {},
     "output_type": "execute_result"
    }
   ],
   "source": [
    "df.shape"
   ]
  },
  {
   "cell_type": "code",
   "execution_count": 7,
   "metadata": {},
   "outputs": [],
   "source": [
    "modelo=smf.ols('co2~desplazamiento+cilindros+consumo',data=df).fit()"
   ]
  },
  {
   "cell_type": "code",
   "execution_count": 8,
   "metadata": {},
   "outputs": [
    {
     "data": {
      "text/plain": [
       "Intercept         817.945789\n",
       "desplazamiento     11.767880\n",
       "cilindros           1.237911\n",
       "consumo           -19.803556\n",
       "dtype: float64"
      ]
     },
     "execution_count": 8,
     "metadata": {},
     "output_type": "execute_result"
    }
   ],
   "source": [
    "modelo.params"
   ]
  },
  {
   "cell_type": "code",
   "execution_count": 9,
   "metadata": {},
   "outputs": [
    {
     "data": {
      "text/html": [
       "<table class=\"simpletable\">\n",
       "<caption>OLS Regression Results</caption>\n",
       "<tr>\n",
       "  <th>Dep. Variable:</th>           <td>co2</td>       <th>  R-squared:         </th>  <td>   0.931</td>  \n",
       "</tr>\n",
       "<tr>\n",
       "  <th>Model:</th>                   <td>OLS</td>       <th>  Adj. R-squared:    </th>  <td>   0.931</td>  \n",
       "</tr>\n",
       "<tr>\n",
       "  <th>Method:</th>             <td>Least Squares</td>  <th>  F-statistic:       </th>  <td>1.602e+05</td> \n",
       "</tr>\n",
       "<tr>\n",
       "  <th>Date:</th>             <td>Sun, 08 Jan 2023</td> <th>  Prob (F-statistic):</th>   <td>  0.00</td>   \n",
       "</tr>\n",
       "<tr>\n",
       "  <th>Time:</th>                 <td>12:11:00</td>     <th>  Log-Likelihood:    </th> <td>-1.6808e+05</td>\n",
       "</tr>\n",
       "<tr>\n",
       "  <th>No. Observations:</th>      <td> 35539</td>      <th>  AIC:               </th>  <td>3.362e+05</td> \n",
       "</tr>\n",
       "<tr>\n",
       "  <th>Df Residuals:</th>          <td> 35535</td>      <th>  BIC:               </th>  <td>3.362e+05</td> \n",
       "</tr>\n",
       "<tr>\n",
       "  <th>Df Model:</th>              <td>     3</td>      <th>                     </th>      <td> </td>     \n",
       "</tr>\n",
       "<tr>\n",
       "  <th>Covariance Type:</th>      <td>nonrobust</td>    <th>                     </th>      <td> </td>     \n",
       "</tr>\n",
       "</table>\n",
       "<table class=\"simpletable\">\n",
       "<tr>\n",
       "         <td></td>           <th>coef</th>     <th>std err</th>      <th>t</th>      <th>P>|t|</th>  <th>[0.025</th>    <th>0.975]</th>  \n",
       "</tr>\n",
       "<tr>\n",
       "  <th>Intercept</th>      <td>  817.9458</td> <td>    1.585</td> <td>  515.944</td> <td> 0.000</td> <td>  814.838</td> <td>  821.053</td>\n",
       "</tr>\n",
       "<tr>\n",
       "  <th>desplazamiento</th> <td>   11.7679</td> <td>    0.280</td> <td>   42.018</td> <td> 0.000</td> <td>   11.219</td> <td>   12.317</td>\n",
       "</tr>\n",
       "<tr>\n",
       "  <th>cilindros</th>      <td>    1.2379</td> <td>    0.201</td> <td>    6.148</td> <td> 0.000</td> <td>    0.843</td> <td>    1.633</td>\n",
       "</tr>\n",
       "<tr>\n",
       "  <th>consumo</th>        <td>  -19.8036</td> <td>    0.051</td> <td> -385.094</td> <td> 0.000</td> <td>  -19.904</td> <td>  -19.703</td>\n",
       "</tr>\n",
       "</table>\n",
       "<table class=\"simpletable\">\n",
       "<tr>\n",
       "  <th>Omnibus:</th>       <td>6648.550</td> <th>  Durbin-Watson:     </th> <td>   0.579</td> \n",
       "</tr>\n",
       "<tr>\n",
       "  <th>Prob(Omnibus):</th>  <td> 0.000</td>  <th>  Jarque-Bera (JB):  </th> <td>15646.057</td>\n",
       "</tr>\n",
       "<tr>\n",
       "  <th>Skew:</th>           <td> 1.061</td>  <th>  Prob(JB):          </th> <td>    0.00</td> \n",
       "</tr>\n",
       "<tr>\n",
       "  <th>Kurtosis:</th>       <td> 5.463</td>  <th>  Cond. No.          </th> <td>    233.</td> \n",
       "</tr>\n",
       "</table><br/><br/>Notes:<br/>[1] Standard Errors assume that the covariance matrix of the errors is correctly specified."
      ],
      "text/plain": [
       "<class 'statsmodels.iolib.summary.Summary'>\n",
       "\"\"\"\n",
       "                            OLS Regression Results                            \n",
       "==============================================================================\n",
       "Dep. Variable:                    co2   R-squared:                       0.931\n",
       "Model:                            OLS   Adj. R-squared:                  0.931\n",
       "Method:                 Least Squares   F-statistic:                 1.602e+05\n",
       "Date:                Sun, 08 Jan 2023   Prob (F-statistic):               0.00\n",
       "Time:                        12:11:00   Log-Likelihood:            -1.6808e+05\n",
       "No. Observations:               35539   AIC:                         3.362e+05\n",
       "Df Residuals:                   35535   BIC:                         3.362e+05\n",
       "Df Model:                           3                                         \n",
       "Covariance Type:            nonrobust                                         \n",
       "==================================================================================\n",
       "                     coef    std err          t      P>|t|      [0.025      0.975]\n",
       "----------------------------------------------------------------------------------\n",
       "Intercept        817.9458      1.585    515.944      0.000     814.838     821.053\n",
       "desplazamiento    11.7679      0.280     42.018      0.000      11.219      12.317\n",
       "cilindros          1.2379      0.201      6.148      0.000       0.843       1.633\n",
       "consumo          -19.8036      0.051   -385.094      0.000     -19.904     -19.703\n",
       "==============================================================================\n",
       "Omnibus:                     6648.550   Durbin-Watson:                   0.579\n",
       "Prob(Omnibus):                  0.000   Jarque-Bera (JB):            15646.057\n",
       "Skew:                           1.061   Prob(JB):                         0.00\n",
       "Kurtosis:                       5.463   Cond. No.                         233.\n",
       "==============================================================================\n",
       "\n",
       "Notes:\n",
       "[1] Standard Errors assume that the covariance matrix of the errors is correctly specified.\n",
       "\"\"\""
      ]
     },
     "execution_count": 9,
     "metadata": {},
     "output_type": "execute_result"
    }
   ],
   "source": [
    "modelo.summary()"
   ]
  },
  {
   "attachments": {},
   "cell_type": "markdown",
   "metadata": {},
   "source": [
    "$$Y=817+11.7\\times desplazamiento + 1.23\\times cilindros -19.8 \\times consumo$$"
   ]
  },
  {
   "cell_type": "code",
   "execution_count": 10,
   "metadata": {},
   "outputs": [],
   "source": [
    "parametros=modelo.params.to_dict()\n",
    "modelo_formula=\"y~{Intercept:.3f} + {cilindros:.2f}* cilindros + {consumo:.2f}*consumo + {desplazamiento:.2f}\".format(**parametros)"
   ]
  },
  {
   "cell_type": "code",
   "execution_count": 11,
   "metadata": {},
   "outputs": [
    {
     "data": {
      "text/plain": [
       "<matplotlib.collections.PathCollection at 0x27dc02617f0>"
      ]
     },
     "execution_count": 11,
     "metadata": {},
     "output_type": "execute_result"
    },
    {
     "data": {
      "image/png": "[encoded data removed]",
      "text/plain": [
       "<Figure size 640x480 with 1 Axes>"
      ]
     },
     "metadata": {},
     "output_type": "display_data"
    }
   ],
   "source": [
    "import matplotlib.pyplot as plt\n",
    "plt.scatter(df.co2,modelo.predict(df))"
   ]
  },
  {
   "cell_type": "code",
   "execution_count": 12,
   "metadata": {},
   "outputs": [],
   "source": [
    "variable_independiente=[\"desplazamiento\",\"cilindros\",\"consumo\"]\n",
    "variable_dependiente=[\"co2\"]"
   ]
  },
  {
   "cell_type": "code",
   "execution_count": 13,
   "metadata": {},
   "outputs": [],
   "source": [
    "X=df[variable_independiente]\n",
    "y=df[variable_dependiente]"
   ]
  },
  {
   "cell_type": "code",
   "execution_count": 14,
   "metadata": {},
   "outputs": [],
   "source": [
    "modelo=LinearRegression()"
   ]
  },
  {
   "cell_type": "code",
   "execution_count": 15,
   "metadata": {},
   "outputs": [],
   "source": [
    "modelo_ajustad=modelo.fit(X,y)"
   ]
  },
  {
   "cell_type": "code",
   "execution_count": 16,
   "metadata": {},
   "outputs": [],
   "source": [
    "y_pred=modelo_ajustad.predict(X)"
   ]
  },
  {
   "cell_type": "code",
   "execution_count": 17,
   "metadata": {},
   "outputs": [
    {
     "data": {
      "text/plain": [
       "<matplotlib.collections.PathCollection at 0x27dbe1f0d60>"
      ]
     },
     "execution_count": 17,
     "metadata": {},
     "output_type": "execute_result"
    },
    {
     "data": {
      "image/png": "[encoded data removed]",
      "text/plain": [
       "<Figure size 640x480 with 1 Axes>"
      ]
     },
     "metadata": {},
     "output_type": "display_data"
    }
   ],
   "source": [
    "plt.scatter(y,y_pred)"
   ]
  },
  {
   "cell_type": "code",
   "execution_count": 18,
   "metadata": {},
   "outputs": [
    {
     "data": {
      "text/plain": [
       "array([[ 11.76787991,   1.23791071, -19.80355606]])"
      ]
     },
     "execution_count": 18,
     "metadata": {},
     "output_type": "execute_result"
    }
   ],
   "source": [
    "modelo_ajustad.coef_"
   ]
  },
  {
   "cell_type": "code",
   "execution_count": 19,
   "metadata": {},
   "outputs": [
    {
     "data": {
      "text/plain": [
       "array([817.94578865])"
      ]
     },
     "execution_count": 19,
     "metadata": {},
     "output_type": "execute_result"
    }
   ],
   "source": [
    "modelo_ajustad.intercept_"
   ]
  },
  {
   "cell_type": "code",
   "execution_count": 20,
   "metadata": {},
   "outputs": [
    {
     "data": {
      "text/plain": [
       "array(['desplazamiento', 'cilindros', 'consumo'], dtype=object)"
      ]
     },
     "execution_count": 20,
     "metadata": {},
     "output_type": "execute_result"
    }
   ],
   "source": [
    "modelo_ajustad.feature_names_in_"
   ]
  },
  {
   "cell_type": "code",
   "execution_count": 21,
   "metadata": {},
   "outputs": [
    {
     "data": {
      "text/plain": [
       "co2   -3.637825e-14\n",
       "dtype: float64"
      ]
     },
     "execution_count": 21,
     "metadata": {},
     "output_type": "execute_result"
    }
   ],
   "source": [
    "(y-y_pred).mean()"
   ]
  },
  {
   "attachments": {},
   "cell_type": "markdown",
   "metadata": {},
   "source": [
    "#### Regresión Lineal\n",
    "$$\\hat{y}= \\beta_0 + \\beta_1 x_1 + \\ldots \\beta_n x_n $$"
   ]
  },
  {
   "attachments": {},
   "cell_type": "markdown",
   "metadata": {},
   "source": [
    "$$Y=X \\beta$$"
   ]
  },
  {
   "attachments": {},
   "cell_type": "markdown",
   "metadata": {},
   "source": [
    "$$(X^tX)^{-1}$$"
   ]
  },
  {
   "attachments": {},
   "cell_type": "markdown",
   "metadata": {},
   "source": [
    "* Ridge\n",
    "* Lasso"
   ]
  },
  {
   "attachments": {},
   "cell_type": "markdown",
   "metadata": {},
   "source": [
    "### Ridge"
   ]
  },
  {
   "attachments": {},
   "cell_type": "markdown",
   "metadata": {},
   "source": [
    "$$(X^tX + \\alpha I)^{-1}$$"
   ]
  },
  {
   "attachments": {},
   "cell_type": "markdown",
   "metadata": {},
   "source": [
    "$$\\begin{pmatrix}\n",
    "1&2\\\\\n",
    "2&4\n",
    "\\end{pmatrix}$$\n",
    "\n",
    "\n",
    "$$\\begin{pmatrix}\n",
    "1&2\\\\\n",
    "2&4\n",
    "\\end{pmatrix} + 2 \\times I = \\begin{pmatrix}\n",
    "3&2\\\\\n",
    "2&6\n",
    "\\end{pmatrix}$$\n",
    "\n"
   ]
  },
  {
   "cell_type": "code",
   "execution_count": 1,
   "metadata": {},
   "outputs": [],
   "source": [
    "from sklearn.linear_model import Ridge"
   ]
  },
  {
   "cell_type": "code",
   "execution_count": 12,
   "metadata": {},
   "outputs": [],
   "source": [
    "from sklearn.datasets import make_regression\n",
    "import pandas as pd"
   ]
  },
  {
   "cell_type": "code",
   "execution_count": 7,
   "metadata": {},
   "outputs": [],
   "source": [
    "X,y=make_regression(n_samples=1000)"
   ]
  },
  {
   "cell_type": "code",
   "execution_count": 8,
   "metadata": {},
   "outputs": [],
   "source": [
    "ridge=Ridge()"
   ]
  },
  {
   "cell_type": "code",
   "execution_count": 9,
   "metadata": {},
   "outputs": [
    {
     "data": {
      "text/plain": [
       "Ridge()"
      ]
     },
     "execution_count": 9,
     "metadata": {},
     "output_type": "execute_result"
    }
   ],
   "source": [
    "ridge.fit(X,y)"
   ]
  },
  {
   "attachments": {},
   "cell_type": "markdown",
   "metadata": {},
   "source": [
    "* Error Cuadratico Medio **MSE** $\\to$  **RMSE**\n",
    "* Error Absoluto Medio **MAE**\n",
    "* Error Absoluto Medio Porcentual **MAPE**"
   ]
  },
  {
   "attachments": {},
   "cell_type": "markdown",
   "metadata": {},
   "source": [
    "Se entrenará con el 70%"
   ]
  },
  {
   "cell_type": "code",
   "execution_count": 24,
   "metadata": {},
   "outputs": [],
   "source": [
    "muestra=len(X)*0.70\n",
    "X_Entrenamiento=pd.DataFrame(X).loc[:muestra-1,:]\n",
    "y_Entrenamiento=pd.DataFrame(y).loc[:muestra-1]"
   ]
  },
  {
   "cell_type": "code",
   "execution_count": 25,
   "metadata": {},
   "outputs": [],
   "source": [
    "X_Test=pd.DataFrame(X).loc[muestra:,:]\n",
    "y_Test=pd.DataFrame(y).loc[muestra:]"
   ]
  },
  {
   "cell_type": "code",
   "execution_count": 26,
   "metadata": {},
   "outputs": [
    {
     "data": {
      "text/plain": [
       "True"
      ]
     },
     "execution_count": 26,
     "metadata": {},
     "output_type": "execute_result"
    }
   ],
   "source": [
    "len(X_Test) + len(X_Entrenamiento)==len(X)"
   ]
  },
  {
   "cell_type": "code",
   "execution_count": 27,
   "metadata": {},
   "outputs": [],
   "source": [
    "## Lo que haremos será utilizar será la funcion train_test_split"
   ]
  },
  {
   "cell_type": "code",
   "execution_count": 28,
   "metadata": {},
   "outputs": [],
   "source": [
    "from sklearn.model_selection import train_test_split"
   ]
  },
  {
   "cell_type": "code",
   "execution_count": 30,
   "metadata": {},
   "outputs": [],
   "source": [
    "X_Entrenamiento,X_Test,y_Entrenamiento,y_Test=train_test_split(X,y,random_state=1234,test_size=0.3)"
   ]
  },
  {
   "cell_type": "code",
   "execution_count": 31,
   "metadata": {},
   "outputs": [
    {
     "data": {
      "text/plain": [
       "[array([[ 0.71078148,  0.49575735,  1.32487218, ...,  0.53597136,\n",
       "          1.14839213, -0.68776483],\n",
       "        [ 1.44915746,  1.22238393,  0.41084707, ..., -0.72492787,\n",
       "          0.35880613,  1.52361448],\n",
       "        [ 0.61064285,  0.22144595,  0.90879933, ...,  0.34150381,\n",
       "         -0.70257952,  1.21809667],\n",
       "        ...,\n",
       "        [-1.25456154, -0.68268535,  0.15658896, ..., -0.99311448,\n",
       "          0.25015396, -0.59884376],\n",
       "        [-0.40948571, -0.19911406,  0.18287628, ...,  1.57775446,\n",
       "         -0.29003316, -0.14463208],\n",
       "        [ 0.49229562,  0.06864377, -0.27497276, ..., -0.64147442,\n",
       "         -1.7665808 , -0.91490841]]),\n",
       " array([[ 0.73186931, -0.17760881,  0.44608329, ...,  1.36812394,\n",
       "         -0.82346441,  0.20379083],\n",
       "        [ 0.52472166,  0.82749964, -0.00669046, ..., -0.7339516 ,\n",
       "          1.28760807,  0.15859498],\n",
       "        [ 0.42362904,  0.5049663 , -0.66460149, ...,  0.35687836,\n",
       "          0.7236582 ,  0.27298889],\n",
       "        ...,\n",
       "        [ 0.68300586, -0.26732199, -1.21832541, ...,  0.81249833,\n",
       "          0.46663442,  0.6506623 ],\n",
       "        [ 0.73044908,  0.15771419,  0.91562702, ..., -0.26552452,\n",
       "          0.69450076,  0.18380324],\n",
       "        [ 1.2265274 , -0.92445347, -1.01919668, ...,  1.5517031 ,\n",
       "          0.03566135, -1.49809929]]),\n",
       " array([ 1.72451016e+02, -1.52365353e+02,  5.89156814e+01,  1.09501932e+02,\n",
       "        -1.90375086e+02, -9.66078976e+01, -4.22197104e+01,  3.78882010e+01,\n",
       "        -1.27420823e+02, -1.21431067e+02, -1.12490224e+02,  1.40723611e+01,\n",
       "         6.00167948e+01,  1.35504843e+02, -2.32014597e+01,  3.43673020e+01,\n",
       "        -1.60806579e+02, -2.99359977e+01, -3.92887941e+00,  1.88677152e+02,\n",
       "        -5.73337382e+01, -7.09041781e+01,  3.20611600e+01,  1.98232380e+02,\n",
       "         2.43727097e+02,  2.63060465e+01,  4.05621791e+01, -2.40401779e+02,\n",
       "         1.86051975e+02, -1.02978115e+02, -3.14948450e+02, -7.61793806e+01,\n",
       "         1.16312812e+02, -2.16806969e+02, -7.76464570e+01,  2.82105452e+01,\n",
       "         1.93159077e+02, -2.09819936e+01,  1.22246841e+02,  1.75993530e+02,\n",
       "        -1.90511644e+02, -6.14389193e+01, -4.94285473e+01,  3.48933897e+01,\n",
       "        -9.73782296e+01, -2.21079262e+02,  2.81363766e+02, -1.55641059e+02,\n",
       "         5.25288097e+01,  2.39230300e+02,  8.36188528e+01,  5.33559556e+01,\n",
       "        -1.27901784e+01,  1.05841712e+02, -2.43671982e+02,  2.15156680e+02,\n",
       "         2.58516936e+02,  1.71286805e+02, -2.24537401e+02,  9.22103922e+01,\n",
       "         3.73637651e+02, -3.11147694e+02,  1.09753847e+02,  8.08629018e+01,\n",
       "         1.03999544e+02,  1.67177797e+02,  7.90255957e+01,  4.36026088e+01,\n",
       "        -1.79413083e+01, -9.15971708e+01,  2.35742754e+01,  1.47706332e+02,\n",
       "        -1.81896489e+02, -2.77140408e+02, -9.48589579e+01,  1.99623222e+02,\n",
       "         3.14794193e+02,  3.14443580e+02, -1.47019333e+02, -3.07014892e+01,\n",
       "        -1.14783077e+01, -2.52270809e+02, -2.03248773e+01, -4.66090817e+01,\n",
       "         3.30569232e+01, -9.82409095e+01, -8.24672594e+01,  1.16679637e+02,\n",
       "        -1.11091678e+02,  2.96350677e+02, -3.03229034e+02, -2.94670555e+01,\n",
       "        -1.55730953e+02,  1.02288085e+02,  8.58354492e+01,  8.46382706e+01,\n",
       "        -8.37414609e+01, -2.86383617e+02, -8.50057196e+01, -3.39836706e+02,\n",
       "        -1.12136336e+02, -1.10845537e+02, -3.94327635e+01,  1.97837005e+02,\n",
       "        -2.31721462e+02,  1.24498364e+02, -7.95533959e+01, -2.87532655e+02,\n",
       "         2.26136782e+02,  2.24779399e+01,  3.46929210e+02, -1.61466017e+02,\n",
       "        -1.62380255e+01, -6.69219855e+00,  1.69176905e+02, -4.81500693e+02,\n",
       "        -3.53917418e+01,  1.42113981e+01, -8.91258572e+01, -1.02060290e+02,\n",
       "        -1.01791192e+02,  1.41712776e+02,  1.15612916e+02, -1.89608711e+02,\n",
       "         1.30451990e+02,  1.38104633e+02, -1.31770909e+02, -2.16832219e+02,\n",
       "        -2.14769901e+02,  8.18310922e+01, -1.70732416e+02, -5.44542448e+01,\n",
       "        -9.13153455e+01,  1.32640218e+02, -2.41705876e+02, -4.31256399e+02,\n",
       "        -1.32639281e+02,  1.02846777e+02,  2.60514452e+02,  2.19555094e+02,\n",
       "        -4.60435313e+01,  2.41111828e+01, -1.04930880e+02,  1.76342189e+01,\n",
       "         1.88958592e+01, -1.05453886e+01, -2.95123697e+02, -2.89539275e+02,\n",
       "        -1.81416137e+02, -4.80158547e+01,  7.69060093e+01,  1.06546353e+02,\n",
       "        -6.36355436e+01, -9.08765743e+00,  6.60597574e+01,  6.37009320e+01,\n",
       "        -1.18307509e+02, -1.48855602e+02, -5.96343056e+01, -2.16843861e+02,\n",
       "        -2.85928762e+02,  4.21963597e+02, -1.67112736e+02, -2.84955057e+02,\n",
       "         2.52027519e+02, -8.94757236e+01, -2.13017568e+02, -1.28296913e+02,\n",
       "         5.11213722e+00,  3.02632567e+01,  4.52717506e+02,  2.24247212e+02,\n",
       "        -1.52178047e+01, -5.06490406e+01, -8.02297226e+01, -4.89477157e+01,\n",
       "         1.78725446e+02, -9.59819388e+01, -2.29746258e+02, -3.60850304e+02,\n",
       "        -1.12467659e+02,  3.43263927e+02,  1.76364290e+00,  1.89310665e+02,\n",
       "         2.52232828e+01,  1.27937881e+02, -1.27794088e+01, -7.52511955e+01,\n",
       "        -2.30792088e+02, -1.67517747e+02,  6.19467897e+01,  6.56881975e+01,\n",
       "         9.36184111e+01, -1.37392771e+02,  1.88612743e+02,  5.33292895e+01,\n",
       "        -3.17644293e+01,  7.38798827e+01, -2.36738748e+02, -8.48239373e+01,\n",
       "         3.79844702e+02,  1.80635226e+02, -1.59374697e+02,  2.62796486e+02,\n",
       "        -1.91117218e+01, -7.02925087e+01,  1.58540836e+02, -2.52125080e+02,\n",
       "        -6.75823953e+00, -9.59079145e+01,  6.84604044e+01, -9.40003027e+01,\n",
       "         2.31189201e+02,  5.92403893e+01,  2.83606257e+02,  3.68897314e+00,\n",
       "         1.55866377e+01,  7.39169601e+01, -3.81708891e+01,  2.83138258e+02,\n",
       "        -5.86480137e+00,  2.20197490e+01, -1.09485329e+02, -1.71707689e+01,\n",
       "        -1.98754257e+02, -2.72768520e+02, -1.28393791e+02, -2.63965107e+02,\n",
       "        -3.81683570e+01, -2.13087455e+02,  8.21082856e+01, -1.12023194e+02,\n",
       "         4.89361325e+01,  1.38723341e+02, -1.97916688e+02,  3.51562066e+01,\n",
       "        -1.69061467e+02,  1.58387527e+02,  2.73187211e+01,  5.19525716e+01,\n",
       "        -2.18571079e+02, -3.57853187e+01, -1.79245021e+02, -1.22498387e+02,\n",
       "         2.56405653e+02, -6.32024154e+01,  2.21509817e+02, -2.91576649e+02,\n",
       "        -5.83829239e+01,  2.52439921e+01, -1.81713888e+02,  1.16175089e+02,\n",
       "         3.14314401e+01, -7.45034075e+01,  1.89999613e+02, -2.06863444e+02,\n",
       "        -9.85157507e+01,  2.88757605e+02,  6.62521864e+01, -1.26341603e+02,\n",
       "         1.60563517e+02, -6.07266271e+01, -2.12923796e+02,  2.32877174e+02,\n",
       "        -1.22383325e+01, -4.42271292e+01,  2.37301726e+02, -8.60487116e+01,\n",
       "        -2.31676028e+02,  2.33208972e+02, -1.50384904e+02,  7.59568404e+01,\n",
       "        -4.05742630e+02, -2.92338256e+02,  7.23520040e+01, -2.25890299e+02,\n",
       "         4.62439966e+01, -1.52206205e+02,  1.64343285e+01,  8.94627707e+01,\n",
       "         1.06611460e+02, -1.85889371e+00, -1.60693499e+02, -2.28101769e+02,\n",
       "         2.54471291e+02,  1.20264772e+02, -1.32928911e+02,  2.88612310e+02,\n",
       "        -6.04661758e+01, -1.68912777e+02,  6.61909438e+01,  1.03222646e+02,\n",
       "         2.12036823e+02,  1.19309664e+02, -2.35868943e+02,  1.12160784e+02,\n",
       "        -1.43534394e+02,  1.85723684e+02,  1.36872336e+02,  1.42531570e+02,\n",
       "        -2.75235693e+02,  1.81412666e+02, -1.11005591e+02,  6.44059706e+01,\n",
       "        -1.09838796e+02, -1.88651985e+02,  1.11857939e+01, -1.55875131e+02,\n",
       "         2.67642003e+02, -2.20156847e+02,  1.88850017e+02, -1.45887648e+02,\n",
       "         2.78743951e+01,  8.22758745e+00,  3.42354591e+02,  1.82900812e+02,\n",
       "        -5.25785623e+01, -8.15175603e+01, -1.53683021e+02,  1.27379951e+01,\n",
       "         1.82207364e+02, -4.47652492e+01, -6.81919580e+00, -6.63734261e+01,\n",
       "         1.09589304e+02,  7.33670039e+01, -1.23766841e+02,  8.68444762e+01,\n",
       "         2.98746547e+01,  1.30988898e+02, -1.48835836e+02, -1.70712651e+02,\n",
       "        -3.47663632e+02, -2.01896702e+02, -2.36072080e+01,  1.37419041e+02,\n",
       "        -2.66349123e+00, -4.68051745e+01,  1.28991213e+02, -3.03069545e+02,\n",
       "        -1.01440230e+02, -1.03723619e+02,  2.58822802e+02,  2.12316529e+02,\n",
       "         1.05251125e+02,  7.93248490e+01, -8.47560663e+01,  2.74783812e+01,\n",
       "        -2.59145598e+02, -8.02110465e+01, -8.68961578e+01,  3.18813296e+01,\n",
       "        -1.02261020e+02, -4.39819255e+01,  1.90922343e+01,  7.20712975e+01,\n",
       "        -6.73481861e+01,  6.67515001e+01,  6.35556371e+01,  1.94979669e+02,\n",
       "        -8.56105328e+00, -5.76290685e+01,  2.97657325e+00, -2.59892578e+01,\n",
       "         4.17433674e+01, -1.30249350e+02, -1.37402978e+02, -1.09892938e+01,\n",
       "        -5.90520588e+01, -3.35327619e+01, -9.45502949e+01,  3.25563728e-01,\n",
       "        -2.28016328e+02, -3.92951848e+01, -1.06389200e+02,  1.07687183e+02,\n",
       "         3.10253461e+01, -2.03331045e+02, -1.25188727e+02, -9.95535768e+01,\n",
       "         5.66048107e+01, -9.10653583e+01,  1.61976600e+01,  2.30411569e+01,\n",
       "         2.53723386e+02,  9.31674830e+01,  5.52029551e+01,  2.15155964e+02,\n",
       "        -1.19656718e+02, -1.67188873e+01, -9.25101532e+01,  4.65409062e+01,\n",
       "        -1.90716944e+02,  1.82710271e+02,  2.70240460e+02, -1.26557441e+02,\n",
       "         2.86635780e+02,  2.44358740e+02,  4.63746337e+01, -7.11291003e+01,\n",
       "         1.10073549e+02,  1.38759485e+02, -4.04164272e+02,  4.70246899e+01,\n",
       "        -8.96335988e+01,  1.12443368e+02,  3.02668614e+00, -1.05957394e+02,\n",
       "         3.71169590e+00, -2.51273767e+02,  1.34400550e+02, -4.84254698e+02,\n",
       "         3.61291909e+02, -2.20278976e+02,  2.73787650e+02, -3.62949245e+01,\n",
       "        -5.44637860e+01,  2.76279595e+01,  1.07410875e+02, -9.99110498e+01,\n",
       "        -9.79475530e+01, -1.11572167e+02,  4.19482469e+01,  6.23393675e+00,\n",
       "         5.90345094e+01, -1.67658355e+02,  5.32565730e+01,  5.91036484e+01,\n",
       "        -1.42827060e+02,  5.64756031e+00, -2.15919347e+02,  2.03946997e+02,\n",
       "        -2.66362575e+01,  1.37618452e+02,  9.09944980e+01, -1.39771985e+02,\n",
       "        -2.17889463e+02,  2.46715294e+02,  1.69742481e+02,  2.32205459e+02,\n",
       "        -1.17877852e+02,  4.01820462e+01,  1.90321642e+02,  4.47037961e+02,\n",
       "         2.49169421e+02,  1.43325733e+02, -3.56915328e+01, -8.76963976e+01,\n",
       "         7.62457602e+01, -2.23768993e+02,  7.56429306e+01, -9.28773605e+01,\n",
       "         5.58245384e+01,  2.11638321e+01, -1.36421959e+02,  2.70529315e+02,\n",
       "        -1.21224924e+02,  1.75818370e+02,  9.26790283e+01, -8.39392952e+01,\n",
       "         1.27881663e+02, -1.28799182e+02,  9.40771908e+01, -1.38451090e+02,\n",
       "         1.85713844e+02,  3.40014421e+02,  2.03330619e+02,  1.32552100e+02,\n",
       "         3.22818932e+02, -3.21388486e+02, -1.20597681e+02,  1.68602794e+02,\n",
       "        -9.74986662e+00,  2.28770406e+02, -1.84131297e+02,  2.56383123e+01,\n",
       "         1.55583376e+02, -1.06043641e+01, -9.43079423e+01,  5.64294033e+01,\n",
       "        -1.29569410e+01, -3.44842757e+00,  1.05483586e+02,  1.78266495e+02,\n",
       "         1.39014412e+02,  4.13170759e+01, -9.13636986e+01, -1.31639471e+02,\n",
       "         8.64919026e+01, -7.61093709e+01,  1.10543846e+02, -1.26819079e+02,\n",
       "        -3.99353184e+02, -2.29156442e+02, -1.06053790e+02,  1.72233356e+02,\n",
       "         1.47161442e+02, -2.31806583e+02,  5.30320907e+01,  1.92780860e+02,\n",
       "        -2.11670234e+02, -5.84871096e+01,  6.32208368e+01,  6.84160994e+01,\n",
       "         1.60048553e+01,  2.37978421e+02,  1.33912892e+02,  2.19650202e+01,\n",
       "         9.22336718e+01,  3.11117412e+01,  1.73502031e+02,  8.66466020e+01,\n",
       "        -2.10243527e+02,  1.50909911e+01, -1.14114585e+01,  5.85647277e+01,\n",
       "         1.40462717e+02,  6.36740481e+01, -2.08850761e+02, -1.22854604e+02,\n",
       "        -9.02466462e+01,  3.99719631e+02,  2.71377833e+00, -1.21306352e+02,\n",
       "         5.98051632e+01, -1.38758913e+01,  1.27393337e+02,  1.64453853e+02,\n",
       "         2.00161583e+02,  1.84741747e+01, -8.36793653e+01, -3.37416244e+01,\n",
       "         3.81586730e+01,  2.15275220e+01,  6.76516604e+01, -1.20238946e+02,\n",
       "         4.05863205e+01,  5.48701484e+01,  8.88825483e+01,  4.02360038e+01,\n",
       "        -1.30338935e+02, -2.64816318e+01,  2.40343338e+02, -4.17230598e+01,\n",
       "        -1.78349396e+01, -4.87857594e+01, -6.14123696e+01, -6.67344487e+01,\n",
       "        -1.01146699e+02, -1.77072531e+02, -3.28830043e+01,  2.61168307e+02,\n",
       "        -2.61796298e+02,  1.89252438e+01, -6.92784976e+01, -1.58756408e+02,\n",
       "         1.34545335e+02, -2.54231581e+02, -5.22670125e+01, -1.42277881e+02,\n",
       "         1.38731448e+02, -4.45573340e+01, -2.75718350e+00, -6.11193864e+01,\n",
       "        -7.89722680e+01,  3.57767388e+02, -1.87689028e+01, -4.84409850e+01,\n",
       "        -2.70903727e+02, -2.53088424e+02,  1.21681364e+01, -8.62937399e+01,\n",
       "        -4.67121418e+01, -2.85864084e+01,  1.74015291e+02,  7.33132322e+01,\n",
       "         1.88816804e+02, -2.05021224e+02, -2.33097943e+02, -2.33454219e+01,\n",
       "        -2.80898764e+02, -8.90567941e+00,  8.82506465e+01, -2.94727865e+02,\n",
       "        -2.75653458e+02, -2.66990590e+02, -1.97677251e+02,  2.75588545e+01,\n",
       "        -9.65451353e+01, -4.05002137e+02, -6.46873739e+01,  1.85212607e+01,\n",
       "         4.28921356e+01,  1.11804024e+02, -7.67887158e+01,  1.26615028e+02,\n",
       "         1.25269551e+02, -9.46702446e+01, -3.16751961e+02,  2.09291223e+02,\n",
       "         1.93061781e+02,  1.27267843e+02, -5.31228668e+01,  2.29861140e+02,\n",
       "        -2.83378973e+02, -6.54820083e+01,  1.29699829e+02,  8.52726701e+01,\n",
       "         7.25375907e+01,  2.94522129e+02,  2.35053464e+02, -3.75946787e+01,\n",
       "         9.78250224e+01,  2.06624405e+02,  1.30433735e+02, -3.65257135e+01,\n",
       "        -1.44750176e+02,  2.56910297e+01,  1.08324431e+01, -7.29572586e+01,\n",
       "         1.28568281e+02,  3.52087787e+01, -2.38159981e+02,  1.00296825e+02,\n",
       "        -1.18258305e+02,  2.68481801e+02, -1.76742651e+02, -1.23228724e+02,\n",
       "         3.46586234e+01,  9.66859300e+01, -9.29069285e+01,  8.08447693e+01,\n",
       "         2.94231376e+02, -5.59314660e+01,  1.19820864e+02,  2.30838341e+02,\n",
       "        -1.77934809e+02,  1.21527622e+02, -8.18607064e+01,  2.09559549e+02,\n",
       "         1.13932835e+02, -6.21894821e+01, -1.31921915e+02, -2.58775589e+00,\n",
       "        -1.77654702e+02, -1.26615463e+02, -7.85357187e+01, -1.78325729e+02,\n",
       "        -2.50629836e+02, -1.17976878e+02,  3.01485359e+01, -2.31880685e+02,\n",
       "         2.78766831e+02, -8.61175832e+01, -1.49934838e+02,  1.03054803e+02,\n",
       "        -2.67720430e+02, -3.39456309e+01, -5.80235845e+01,  1.96502252e+00,\n",
       "        -1.64355580e+02, -5.57362867e+01,  1.90389776e+02,  2.12077426e+02,\n",
       "         1.37105375e+02, -5.61390638e+01,  1.01696474e+01, -1.91186020e+02,\n",
       "        -1.43934857e+02,  1.89893397e+01, -5.29442330e+02,  4.52469894e+02,\n",
       "         3.79025650e+02, -3.11361161e+02,  3.56952905e+02,  2.64579618e+01,\n",
       "         5.64743682e+01,  1.00415510e+02, -4.33608304e+00,  2.62519234e+01,\n",
       "        -2.76474404e+02, -8.27504500e+00,  4.11733044e+01, -4.96617752e+02,\n",
       "        -1.10411743e+02,  4.35195347e+01,  9.88033844e+01,  2.03897862e+02,\n",
       "         2.44350911e+02,  3.61862212e+02, -3.60844568e+02,  2.28618269e+02,\n",
       "        -7.04105143e+01,  2.59287239e+02,  2.43528436e+02,  7.88063916e+01,\n",
       "         1.76507299e+02,  3.65868217e+00, -2.68657546e+02, -2.12259977e+02]),\n",
       " array([ 6.17009581e+00, -1.82557566e+02,  2.72940881e+02, -1.23962664e+02,\n",
       "        -9.18087917e+00, -2.91698373e+01, -1.93772719e+02,  6.69277929e+01,\n",
       "        -2.46536241e+00,  1.42141292e+01,  2.38406060e+02,  1.03639686e+02,\n",
       "        -4.85844660e+01,  1.50160236e+02,  6.35926050e+01, -6.07161613e+00,\n",
       "        -1.76101224e+02,  1.03445002e+02, -2.03680744e+02,  2.80581961e+02,\n",
       "        -1.84462602e+01,  1.15092062e+02, -1.85960496e+01, -4.84028678e+01,\n",
       "         5.19692868e-01,  1.25379636e+02, -2.59683189e+02,  2.83061226e+02,\n",
       "         2.13919634e+02,  3.30236863e+02, -2.28575444e+02, -4.07410923e+01,\n",
       "         2.78756994e+02, -2.01319434e+02, -1.35168930e+02, -2.58296231e+02,\n",
       "         8.36252144e+01,  1.13072105e+02,  4.91038274e+00,  3.33589435e+01,\n",
       "        -1.33573234e+02, -4.00716551e+01, -3.84229107e+01,  4.39743388e+00,\n",
       "        -7.12064548e+01, -3.36379303e+01,  7.26906148e+01,  1.59062668e+02,\n",
       "         4.57951228e+00, -2.17083653e+01, -1.25870674e+02,  1.61423892e+02,\n",
       "         2.37069544e+01, -1.18909562e+02, -2.72405183e+02, -4.95963455e+01,\n",
       "        -9.14968509e+01, -1.53926878e+02,  1.34772829e+02, -1.20812594e+02,\n",
       "         2.62542976e+02,  1.76362476e+02,  1.80586722e+00, -7.37318303e+01,\n",
       "        -1.68823383e+01,  1.15367665e+02, -9.56742030e+01,  3.23690048e+01,\n",
       "        -7.09286962e+01, -1.18435934e+02,  1.78687392e+01, -2.85497515e+01,\n",
       "        -1.38058196e+01,  1.25249570e+02,  5.14366989e+01,  2.53409407e+01,\n",
       "        -6.54926412e+01, -1.85400197e+02,  2.15521148e+01,  5.46402974e+01,\n",
       "        -1.22514386e+02, -2.89160344e+02, -5.00569853e+01, -2.70317681e+02,\n",
       "        -1.73996735e+02,  2.19414341e+02, -6.75011209e+01,  1.41800427e+02,\n",
       "        -2.42373751e+02, -1.57166396e+02,  6.61475647e+01, -2.15022660e+02,\n",
       "        -1.36709256e+02, -1.21886002e+02, -2.58429748e+01, -6.99830433e+01,\n",
       "         1.86409394e+02,  2.46954783e+02, -2.08107153e+02, -1.88717517e+02,\n",
       "         9.85299443e+00,  6.78313516e+01, -5.78634071e+01,  1.53371446e+02,\n",
       "        -6.27049585e+00,  4.02944787e+01,  1.40145521e+02, -1.62683951e+02,\n",
       "        -1.80594511e+02, -2.41274436e+02, -1.46541795e+02,  1.11813086e+02,\n",
       "        -3.12740888e+02,  4.19379474e+01,  6.16627248e+01,  9.19478052e+01,\n",
       "        -7.96056543e+01, -1.80517586e+01,  1.93189551e+01, -5.13695620e+00,\n",
       "        -2.27394030e+00, -3.98631324e+02, -2.62036755e+02,  2.75659743e+01,\n",
       "        -1.16039204e+02, -4.89848473e+02,  1.30087111e+01,  2.76931711e+02,\n",
       "         8.68417339e+01,  3.93453284e+02,  1.13012514e+02,  2.73079879e+02,\n",
       "        -1.85274849e+02,  3.00379414e+01, -8.11018876e+01, -2.45045781e+02,\n",
       "         1.61444710e+02,  1.53424847e+02,  1.58355503e+02,  2.27964614e+02,\n",
       "        -1.23131092e+01, -1.71859473e+02, -2.79093956e+02,  1.22144435e+02,\n",
       "        -8.84454787e+01, -5.76703119e+00,  1.71412744e+02,  3.55542680e+02,\n",
       "        -2.48205527e+01,  3.47529180e+02,  1.29943288e+01,  2.29154182e+02,\n",
       "         7.52165687e+00, -2.04776420e+02, -1.28641528e+02,  2.44815285e+02,\n",
       "        -7.55852114e+01,  1.58503391e+01,  1.11940543e+02, -5.49243296e+01,\n",
       "        -8.67303855e+01, -1.08909263e+01, -4.50994928e+01, -7.26863344e+01,\n",
       "         1.80849267e+02,  7.70513852e+01,  3.41758339e+01, -8.38453405e+01,\n",
       "        -2.91101665e+02,  2.22389980e+02,  3.01883507e+01,  2.24006482e+02,\n",
       "         4.96320658e+02,  1.07484912e+02, -2.42881527e+01, -5.44366447e+01,\n",
       "         3.83702428e+01,  4.52783173e+01, -2.42553109e+02,  1.98987459e+02,\n",
       "         1.30520117e+02,  6.74131271e+01, -1.10193854e+02,  9.38312693e+01,\n",
       "         6.05753987e+01, -4.16470311e+01, -6.83028757e+01, -8.67867468e+01,\n",
       "         2.07539253e+02,  2.09463917e+02,  3.10611393e+02,  2.65372786e+02,\n",
       "         3.58831312e+01,  3.42863008e+01,  3.24527667e+02, -2.42219441e+02,\n",
       "         3.96281787e+01,  5.94133312e+00,  2.26757100e+02, -3.20509371e+02,\n",
       "        -2.44158165e+01, -1.30848410e+02,  1.93934665e+02,  2.00248479e+02,\n",
       "         9.83189486e+01, -1.93072846e+02, -4.38194763e+01, -8.78956561e+01,\n",
       "        -7.29272296e+00,  6.54833013e+01,  2.24128327e+02, -7.92256189e+00,\n",
       "         2.75999686e+02, -1.06267301e+02,  6.61149208e+01,  1.18329378e+01,\n",
       "         3.45331355e+01, -7.47577097e+01,  1.33206530e+02,  4.71066733e+01,\n",
       "        -3.27318983e+02, -1.38235139e+02, -2.82614229e+01, -7.18809022e+01,\n",
       "        -1.67991792e+01,  2.69211959e+02, -5.33027605e+01,  5.85912718e+01,\n",
       "         6.70829837e+01,  4.02087752e+01,  2.01041731e+02, -6.61753621e+01,\n",
       "         7.39851007e+01,  5.40318099e+01, -1.68171369e+02,  6.32326901e+01,\n",
       "        -1.67343602e+02, -1.50899041e+02,  8.33760133e+01,  1.26720847e+02,\n",
       "         1.87808799e+02, -1.81081735e+02, -1.17110645e+02, -2.69799275e+02,\n",
       "        -1.55982293e+01, -8.39576729e+01, -1.08124400e+02,  1.37385788e+02,\n",
       "        -1.19115365e+02, -2.67479090e+02, -6.03065557e+01,  3.28974282e+01,\n",
       "        -1.62174145e+02,  2.39404966e+02,  2.45546019e+02,  3.53201607e+01,\n",
       "        -2.60313334e+02, -3.40578954e+01, -1.01052344e+02, -2.38951444e+02,\n",
       "         1.34237305e+02, -3.17239481e+01, -4.55688431e+01,  2.48345388e+01,\n",
       "        -3.46602397e+02, -1.74549494e+01,  3.14983574e+02, -3.27542590e+02,\n",
       "         3.65586299e+01,  1.62114274e+02,  5.20338981e+01,  4.40322917e+02,\n",
       "        -4.55447188e+01,  9.39236202e+01,  1.54483399e+02, -3.73984015e+01,\n",
       "        -6.61535388e+01, -1.34207391e+01, -1.35347561e+02, -1.05694506e+02,\n",
       "        -1.15233869e+02,  3.05259053e+02, -1.64220162e+02,  4.58989147e+01,\n",
       "        -8.77377213e+01,  7.73217485e+01, -7.65288477e+01, -1.19961733e+02,\n",
       "        -1.27708929e+02,  2.74325905e+02, -6.09751551e+02,  4.36395831e+01,\n",
       "         2.34540680e+02,  2.79611364e+02, -3.59516693e+01,  1.26323777e+02,\n",
       "        -1.21230992e+02,  1.17396360e+02, -4.34090969e+02,  1.41272678e+02])]"
      ]
     },
     "execution_count": 31,
     "metadata": {},
     "output_type": "execute_result"
    }
   ],
   "source": [
    "train_test_split(X,y,random_state=1234,test_size=0.3)"
   ]
  },
  {
   "cell_type": "code",
   "execution_count": 34,
   "metadata": {},
   "outputs": [],
   "source": [
    "ridge=Ridge()"
   ]
  },
  {
   "cell_type": "code",
   "execution_count": 35,
   "metadata": {},
   "outputs": [
    {
     "data": {
      "text/plain": [
       "Ridge()"
      ]
     },
     "execution_count": 35,
     "metadata": {},
     "output_type": "execute_result"
    }
   ],
   "source": [
    "ridge.fit(X_Entrenamiento,y_Entrenamiento)"
   ]
  },
  {
   "cell_type": "code",
   "execution_count": 36,
   "metadata": {},
   "outputs": [
    {
     "data": {
      "text/plain": [
       "-0.005412157779848492"
      ]
     },
     "execution_count": 36,
     "metadata": {},
     "output_type": "execute_result"
    }
   ],
   "source": [
    "ridge.intercept_"
   ]
  },
  {
   "cell_type": "code",
   "execution_count": 37,
   "metadata": {},
   "outputs": [
    {
     "data": {
      "text/plain": [
       "array([-1.21139959e-03,  1.21563282e-02, -6.44265885e-03, -3.77748027e-03,\n",
       "        2.36047445e-02,  8.66659165e-03, -1.62354571e-02, -1.53780295e-02,\n",
       "       -9.99337694e-03,  2.32534348e-02, -2.14344151e-02,  2.31973847e+01,\n",
       "        7.71635583e-03,  4.37997928e+01, -6.81406087e-03, -2.25697915e-03,\n",
       "       -8.46594290e-03,  1.42044624e-02,  2.00551526e-02,  2.15862739e-04,\n",
       "        1.58783240e-02,  4.15792648e+01, -8.23394069e-03,  6.28991279e-03,\n",
       "        2.84094756e-02, -3.55185660e-03, -4.65277206e-03,  7.84629465e-03,\n",
       "        1.41827298e-02,  1.85499681e-02, -8.46193825e-03,  8.66100150e+01,\n",
       "        4.47618698e+01, -7.02447472e-03,  1.14582096e-03,  1.20555588e-02,\n",
       "        1.56365119e-02, -2.72865106e-03,  1.31966572e-02,  1.50583379e-02,\n",
       "       -4.84788105e-03,  6.92739323e-03,  1.61546743e-02, -1.55842651e-03,\n",
       "        6.16490489e+01, -2.89685089e-04, -4.50161010e-03,  4.24274065e+01,\n",
       "        4.94093627e+01,  2.18006695e-03,  1.44974746e-03,  4.75031535e-03,\n",
       "        7.73564362e-03, -5.77390480e-04,  6.94500849e-03, -1.72463103e-02,\n",
       "        8.53949278e-03, -1.61650027e-02, -8.80560342e-03,  4.23059660e-03,\n",
       "        6.06055785e-03,  7.29614951e-03, -5.46778499e-04, -4.07449762e-03,\n",
       "        1.34169608e-03,  2.62826518e-03,  5.91615045e-03, -3.47483338e-03,\n",
       "        3.42779804e-06,  4.91935720e-03, -2.43746224e-02, -1.71187704e-02,\n",
       "       -2.85207398e-03, -5.81345251e-03,  1.63493792e-02, -7.93713384e-03,\n",
       "        6.31115839e-03,  1.16290015e-02,  2.18403541e-03,  1.12139377e-02,\n",
       "       -6.46273802e-03,  2.84915461e-03,  3.95293695e-03, -1.25795075e-03,\n",
       "       -1.64345197e-02, -5.72548303e-03, -1.69220656e-03, -8.84451969e-03,\n",
       "        8.74419843e-03, -5.50537286e-03,  1.68216314e-02,  7.10356635e-04,\n",
       "        7.59029987e+00, -8.72063236e-03, -1.83609070e-03,  2.94309865e-03,\n",
       "        2.06090126e-02,  7.05100584e+01,  1.91944748e-02, -1.77939733e-02])"
      ]
     },
     "execution_count": 37,
     "metadata": {},
     "output_type": "execute_result"
    }
   ],
   "source": [
    "ridge.coef_"
   ]
  },
  {
   "attachments": {},
   "cell_type": "markdown",
   "metadata": {},
   "source": [
    "$$\\cfrac{\\sum_{i=1}^n{(y_i-\\hat{y}_i)^2}}{n}$$"
   ]
  },
  {
   "cell_type": "code",
   "execution_count": 38,
   "metadata": {},
   "outputs": [],
   "source": [
    "y_pred=ridge.predict(X_Test)"
   ]
  },
  {
   "attachments": {},
   "cell_type": "markdown",
   "metadata": {},
   "source": [
    "***MSE***"
   ]
  },
  {
   "cell_type": "code",
   "execution_count": 45,
   "metadata": {},
   "outputs": [
    {
     "data": {
      "text/plain": [
       "0.08359848007077564"
      ]
     },
     "execution_count": 45,
     "metadata": {},
     "output_type": "execute_result"
    }
   ],
   "source": [
    "((y_Test - y_pred)**2).sum()/len(y_Test)"
   ]
  },
  {
   "attachments": {},
   "cell_type": "markdown",
   "metadata": {},
   "source": [
    "* ***RMSE***"
   ]
  },
  {
   "cell_type": "code",
   "execution_count": 47,
   "metadata": {},
   "outputs": [
    {
     "data": {
      "text/plain": [
       "0.289134017491501"
      ]
     },
     "execution_count": 47,
     "metadata": {},
     "output_type": "execute_result"
    }
   ],
   "source": [
    "(((y_Test - y_pred)**2).sum()/len(y_Test))**(1/2)"
   ]
  },
  {
   "cell_type": "code",
   "execution_count": 48,
   "metadata": {},
   "outputs": [
    {
     "data": {
      "text/plain": [
       "-182.257081462752"
      ]
     },
     "execution_count": 48,
     "metadata": {},
     "output_type": "execute_result"
    }
   ],
   "source": [
    "y_pred[1]"
   ]
  },
  {
   "cell_type": "code",
   "execution_count": 49,
   "metadata": {},
   "outputs": [
    {
     "data": {
      "text/plain": [
       "[-182.54621548024352, -181.9679474452605]"
      ]
     },
     "execution_count": 49,
     "metadata": {},
     "output_type": "execute_result"
    }
   ],
   "source": [
    "\n",
    "### aunque sea un array vedlo como si fuera un intervalo\n",
    "[y_pred[1]-(((y_Test - y_pred)**2).sum()/len(y_Test))**(1/2),y_pred[1]+(((y_Test - y_pred)**2).sum()/len(y_Test))**(1/2)]"
   ]
  },
  {
   "cell_type": "code",
   "execution_count": 50,
   "metadata": {},
   "outputs": [
    {
     "data": {
      "text/plain": [
       "-182.55756628877987"
      ]
     },
     "execution_count": 50,
     "metadata": {},
     "output_type": "execute_result"
    }
   ],
   "source": [
    "y_Test[1]"
   ]
  },
  {
   "cell_type": "code",
   "execution_count": 51,
   "metadata": {},
   "outputs": [],
   "source": [
    "import matplotlib.pyplot as plt"
   ]
  },
  {
   "cell_type": "code",
   "execution_count": 53,
   "metadata": {},
   "outputs": [
    {
     "data": {
      "image/png": "[encoded data removed]",
      "text/plain": [
       "<Figure size 432x288 with 1 Axes>"
      ]
     },
     "metadata": {
      "needs_background": "light"
     },
     "output_type": "display_data"
    }
   ],
   "source": [
    "plt.scatter(y_Test,y_pred);"
   ]
  },
  {
   "cell_type": "code",
   "execution_count": 58,
   "metadata": {},
   "outputs": [
    {
     "data": {
      "text/plain": [
       "0.9999969664453151"
      ]
     },
     "execution_count": 58,
     "metadata": {},
     "output_type": "execute_result"
    }
   ],
   "source": [
    "ridge.score(X_Test,y_Test)"
   ]
  },
  {
   "cell_type": "code",
   "execution_count": 54,
   "metadata": {},
   "outputs": [],
   "source": [
    "ridge_10=Ridge(alpha=10)"
   ]
  },
  {
   "cell_type": "code",
   "execution_count": 56,
   "metadata": {},
   "outputs": [
    {
     "data": {
      "text/plain": [
       "Ridge(alpha=10)"
      ]
     },
     "execution_count": 56,
     "metadata": {},
     "output_type": "execute_result"
    }
   ],
   "source": [
    "ridge_10.fit(X_Entrenamiento,y_Entrenamiento)"
   ]
  },
  {
   "cell_type": "code",
   "execution_count": 59,
   "metadata": {},
   "outputs": [],
   "source": [
    "y_pred_10=ridge_10.predict(X_Test)"
   ]
  },
  {
   "cell_type": "code",
   "execution_count": 61,
   "metadata": {},
   "outputs": [],
   "source": [
    "from sklearn.metrics import mean_squared_error"
   ]
  },
  {
   "cell_type": "code",
   "execution_count": 63,
   "metadata": {},
   "outputs": [
    {
     "data": {
      "text/plain": [
       "2.836871702038912"
      ]
     },
     "execution_count": 63,
     "metadata": {},
     "output_type": "execute_result"
    }
   ],
   "source": [
    "mean_squared_error(y_Test,y_pred_10)**(1/2)"
   ]
  },
  {
   "cell_type": "code",
   "execution_count": 64,
   "metadata": {},
   "outputs": [
    {
     "data": {
      "text/plain": [
       "0.028969234393876112"
      ]
     },
     "execution_count": 64,
     "metadata": {},
     "output_type": "execute_result"
    }
   ],
   "source": [
    "ridge_01=Ridge(alpha=0.1)\n",
    "ridge_01.fit(X_Entrenamiento,y_Entrenamiento)\n",
    "y_pred_01=ridge_01.predict(X_Test)\n",
    "mean_squared_error(y_Test,y_pred_01)**(1/2)"
   ]
  },
  {
   "attachments": {},
   "cell_type": "markdown",
   "metadata": {},
   "source": [
    "### Lasso"
   ]
  },
  {
   "cell_type": "code",
   "execution_count": 65,
   "metadata": {},
   "outputs": [],
   "source": [
    "from sklearn.linear_model import Lasso"
   ]
  },
  {
   "cell_type": "code",
   "execution_count": 66,
   "metadata": {},
   "outputs": [
    {
     "data": {
      "text/plain": [
       "3.2214847747908926"
      ]
     },
     "execution_count": 66,
     "metadata": {},
     "output_type": "execute_result"
    }
   ],
   "source": [
    "lasso=Lasso()\n",
    "lasso.fit(X_Entrenamiento,y_Entrenamiento)\n",
    "y_pred_lasso=lasso.predict(X_Test)\n",
    "mean_squared_error(y_Test,y_pred_lasso)**(1/2)"
   ]
  },
  {
   "cell_type": "code",
   "execution_count": 69,
   "metadata": {},
   "outputs": [],
   "source": [
    "import numpy as np"
   ]
  },
  {
   "cell_type": "code",
   "execution_count": 70,
   "metadata": {},
   "outputs": [
    {
     "data": {
      "text/plain": [
       "10"
      ]
     },
     "execution_count": 70,
     "metadata": {},
     "output_type": "execute_result"
    }
   ],
   "source": [
    "np.sum(lasso.coef_!=0)"
   ]
  },
  {
   "cell_type": "code",
   "execution_count": 73,
   "metadata": {},
   "outputs": [
    {
     "data": {
      "text/plain": [
       "0.003133235331822319"
      ]
     },
     "execution_count": 73,
     "metadata": {},
     "output_type": "execute_result"
    }
   ],
   "source": [
    "lasso=Lasso(alpha=0.001)\n",
    "lasso.fit(X_Entrenamiento,y_Entrenamiento)\n",
    "y_pred_lasso=lasso.predict(X_Test)\n",
    "mean_squared_error(y_Test,y_pred_lasso)**(1/2)"
   ]
  },
  {
   "cell_type": "code",
   "execution_count": 74,
   "metadata": {},
   "outputs": [
    {
     "data": {
      "text/plain": [
       "10"
      ]
     },
     "execution_count": 74,
     "metadata": {},
     "output_type": "execute_result"
    }
   ],
   "source": [
    "np.sum(lasso.coef_!=0)"
   ]
  },
  {
   "cell_type": "markdown",
   "metadata": {},
   "source": [
    "### Elastic Net"
   ]
  },
  {
   "cell_type": "code",
   "execution_count": 75,
   "metadata": {},
   "outputs": [],
   "source": [
    "from sklearn.linear_model import ElasticNet "
   ]
  },
  {
   "cell_type": "code",
   "execution_count": 76,
   "metadata": {},
   "outputs": [
    {
     "data": {
      "text/plain": [
       "59.74894547274932"
      ]
     },
     "execution_count": 76,
     "metadata": {},
     "output_type": "execute_result"
    }
   ],
   "source": [
    "elastic=ElasticNet()\n",
    "elastic.fit(X_Entrenamiento,y_Entrenamiento)\n",
    "y_pred_elastic=elastic.predict(X_Test)\n",
    "mean_squared_error(y_Test,y_pred_elastic)**(1/2)"
   ]
  },
  {
   "cell_type": "code",
   "execution_count": 78,
   "metadata": {},
   "outputs": [
    {
     "data": {
      "text/plain": [
       "118.0403529554629"
      ]
     },
     "execution_count": 78,
     "metadata": {},
     "output_type": "execute_result"
    }
   ],
   "source": [
    "elastic=ElasticNet(alpha=10,l1_ratio=0.8)\n",
    "elastic.fit(X_Entrenamiento,y_Entrenamiento)\n",
    "y_pred_elastic=elastic.predict(X_Test)\n",
    "mean_squared_error(y_Test,y_pred_elastic)**(1/2)"
   ]
  },
  {
   "cell_type": "code",
   "execution_count": null,
   "metadata": {},
   "outputs": [],
   "source": []
  }
 ],
 "metadata": {
  "kernelspec": {
   "display_name": "rampup_py39",
   "language": "python",
   "name": "python3"
  },
  "language_info": {
   "codemirror_mode": {
    "name": "ipython",
    "version": 3
   },
   "file_extension": ".py",
   "mimetype": "text/x-python",
   "name": "python",
   "nbconvert_exporter": "python",
   "pygments_lexer": "ipython3",
   "version": "3.9.13 (main, Aug 25 2022, 23:51:50) [MSC v.1916 64 bit (AMD64)]"
  },
  "orig_nbformat": 4,
  "vscode": {
   "interpreter": {
    "hash": "841b6b730caa98d10b9b1cb94a042b11b0b3943d20be54364f0ad12c19b8dd2d"
   }
  }
 },
 "nbformat": 4,
 "nbformat_minor": 2
}
